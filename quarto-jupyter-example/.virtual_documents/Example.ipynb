














library(ggplot2)
library(cowplot)
library(magick)





here::i_am("presentation/showcase-your-research.qmd")
yes_img <- here::here("images/yes.png")
no_img <- here::here("images/no.png")





yes_plot <- ggdraw() + draw_image(yes_img, scale = 1)
no_plot <- ggdraw() + draw_image(no_img, scale = 1)





#| label: badplot
#| fig-cap: This is not the way to use the colour aesthetic
(bad_plot <- 
  ggplot(mpg, aes(x = displ, y = hwy, colour = "blue")) +
  geom_point())






#| label: goodplot
#| fig-cap: This plot is so nice!
(good_plot <- 
  ggplot(mpg, aes(x = displ, y = hwy)) +
  geom_point(colour = "blue") +
  geom_smooth(colour = "red") + 
  theme_half_open(12) +
  labs(x = "Engine power (litres displ.)",
       y = "Fuel Efficiency (miles/gallon)"))





#| label: meme
#| fig-cap: This grid shows the progress from novice to expert in `ggplot2`
plot_grid(no_plot, bad_plot,
          yes_plot, good_plot) 



